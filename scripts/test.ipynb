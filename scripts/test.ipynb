{
 "cells": [
  {
   "cell_type": "code",
   "execution_count": 4,
   "metadata": {},
   "outputs": [
    {
     "name": "stdout",
     "output_type": "stream",
     "text": [
      "Requirement already satisfied: pandas in c:\\users\\samarth seshadri\\appdata\\local\\programs\\python\\python312\\lib\\site-packages (2.2.2)\n",
      "Requirement already satisfied: numpy in c:\\users\\samarth seshadri\\appdata\\local\\programs\\python\\python312\\lib\\site-packages (1.26.4)\n",
      "Requirement already satisfied: scikit-learn in c:\\users\\samarth seshadri\\appdata\\local\\programs\\python\\python312\\lib\\site-packages (1.5.0)\n",
      "Requirement already satisfied: nltk in c:\\users\\samarth seshadri\\appdata\\local\\programs\\python\\python312\\lib\\site-packages (3.8.1)\n",
      "Requirement already satisfied: joblib in c:\\users\\samarth seshadri\\appdata\\local\\programs\\python\\python312\\lib\\site-packages (1.4.2)\n",
      "Requirement already satisfied: flask in c:\\users\\samarth seshadri\\appdata\\local\\programs\\python\\python312\\lib\\site-packages (3.0.3)\n",
      "Requirement already satisfied: python-dateutil>=2.8.2 in c:\\users\\samarth seshadri\\appdata\\local\\programs\\python\\python312\\lib\\site-packages (from pandas) (2.9.0.post0)\n",
      "Requirement already satisfied: pytz>=2020.1 in c:\\users\\samarth seshadri\\appdata\\local\\programs\\python\\python312\\lib\\site-packages (from pandas) (2024.1)\n",
      "Requirement already satisfied: tzdata>=2022.7 in c:\\users\\samarth seshadri\\appdata\\local\\programs\\python\\python312\\lib\\site-packages (from pandas) (2024.1)\n",
      "Requirement already satisfied: scipy>=1.6.0 in c:\\users\\samarth seshadri\\appdata\\local\\programs\\python\\python312\\lib\\site-packages (from scikit-learn) (1.13.1)\n",
      "Requirement already satisfied: threadpoolctl>=3.1.0 in c:\\users\\samarth seshadri\\appdata\\local\\programs\\python\\python312\\lib\\site-packages (from scikit-learn) (3.5.0)\n",
      "Requirement already satisfied: click in c:\\users\\samarth seshadri\\appdata\\local\\programs\\python\\python312\\lib\\site-packages (from nltk) (8.1.7)\n",
      "Requirement already satisfied: regex>=2021.8.3 in c:\\users\\samarth seshadri\\appdata\\local\\programs\\python\\python312\\lib\\site-packages (from nltk) (2024.5.15)\n",
      "Requirement already satisfied: tqdm in c:\\users\\samarth seshadri\\appdata\\local\\programs\\python\\python312\\lib\\site-packages (from nltk) (4.66.4)\n",
      "Requirement already satisfied: Werkzeug>=3.0.0 in c:\\users\\samarth seshadri\\appdata\\local\\programs\\python\\python312\\lib\\site-packages (from flask) (3.0.3)\n",
      "Requirement already satisfied: Jinja2>=3.1.2 in c:\\users\\samarth seshadri\\appdata\\local\\programs\\python\\python312\\lib\\site-packages (from flask) (3.1.4)\n",
      "Requirement already satisfied: itsdangerous>=2.1.2 in c:\\users\\samarth seshadri\\appdata\\local\\programs\\python\\python312\\lib\\site-packages (from flask) (2.2.0)\n",
      "Requirement already satisfied: blinker>=1.6.2 in c:\\users\\samarth seshadri\\appdata\\local\\programs\\python\\python312\\lib\\site-packages (from flask) (1.8.2)\n",
      "Requirement already satisfied: colorama in c:\\users\\samarth seshadri\\appdata\\local\\programs\\python\\python312\\lib\\site-packages (from click->nltk) (0.4.6)\n",
      "Requirement already satisfied: MarkupSafe>=2.0 in c:\\users\\samarth seshadri\\appdata\\local\\programs\\python\\python312\\lib\\site-packages (from Jinja2>=3.1.2->flask) (2.1.5)\n",
      "Requirement already satisfied: six>=1.5 in c:\\users\\samarth seshadri\\appdata\\local\\programs\\python\\python312\\lib\\site-packages (from python-dateutil>=2.8.2->pandas) (1.16.0)\n",
      "Note: you may need to restart the kernel to use updated packages.\n"
     ]
    }
   ],
   "source": [
    "pip install pandas numpy scikit-learn nltk joblib flask\n"
   ]
  },
  {
   "cell_type": "code",
   "execution_count": 2,
   "metadata": {},
   "outputs": [],
   "source": [
    "import pandas as pd\n",
    "import re\n",
    "import nltk\n",
    "from nltk.corpus import stopwords\n",
    "from nltk.stem import WordNetLemmatizer\n",
    "from sklearn.feature_extraction.text import TfidfVectorizer\n",
    "from sklearn.model_selection import train_test_split\n",
    "from sklearn.linear_model import LogisticRegression\n",
    "from sklearn.tree import DecisionTreeClassifier\n",
    "from sklearn.ensemble import RandomForestClassifier\n",
    "from sklearn.svm import SVC\n",
    "from sklearn.naive_bayes import MultinomialNB\n",
    "from sklearn.metrics import accuracy_score, classification_report\n",
    "from sklearn.model_selection import GridSearchCV\n",
    "import joblib\n",
    "from flask import Flask, request, jsonify"
   ]
  },
  {
   "cell_type": "code",
   "execution_count": 5,
   "metadata": {},
   "outputs": [],
   "source": [
    "import pandas as pd\n",
    "\n",
    "# Define file paths\n",
    "phishing_email_path = 'C:/Users/Samarth Seshadri/Documents/IS Project/datasets/phishing_email.csv'\n",
    "nigerian_fraud_path = 'C:/Users/Samarth Seshadri/Documents/IS Project/datasets/Nigerian_Fraud.csv'\n",
    "spam_assassin_path = 'C:/Users/Samarth Seshadri/Documents/IS Project/datasets/SpamAssasin.csv'\n",
    "ceas_08_path = 'C:/Users/Samarth Seshadri/Documents/IS Project/datasets/CEAS_08.csv'\n",
    "enron_path = 'C:/Users/Samarth Seshadri/Documents/IS Project/datasets/Enron.csv'\n",
    "ling_path = 'C:/Users/Samarth Seshadri/Documents/IS Project/datasets/Ling.csv'\n",
    "nazario_path = 'C:/Users/Samarth Seshadri/Documents/IS Project/datasets/Nazario.csv'\n",
    "\n",
    "# Load datasets\n",
    "phishing_email = pd.read_csv(phishing_email_path)\n",
    "nigerian_fraud = pd.read_csv(nigerian_fraud_path)\n",
    "spam_assassin = pd.read_csv(spam_assassin_path)\n",
    "ceas_08 = pd.read_csv(ceas_08_path)\n",
    "enron = pd.read_csv(enron_path)\n",
    "ling = pd.read_csv(ling_path)\n",
    "nazario = pd.read_csv(nazario_path)\n"
   ]
  },
  {
   "cell_type": "code",
   "execution_count": 7,
   "metadata": {},
   "outputs": [
    {
     "name": "stderr",
     "output_type": "stream",
     "text": [
      "[nltk_data] Downloading package stopwords to C:\\Users\\Samarth\n",
      "[nltk_data]     Seshadri\\AppData\\Roaming\\nltk_data...\n",
      "[nltk_data]   Package stopwords is already up-to-date!\n",
      "[nltk_data] Downloading package wordnet to C:\\Users\\Samarth\n",
      "[nltk_data]     Seshadri\\AppData\\Roaming\\nltk_data...\n",
      "[nltk_data]   Package wordnet is already up-to-date!\n"
     ]
    },
    {
     "name": "stdout",
     "output_type": "stream",
     "text": [
      "Shapes of the datasets:\n",
      "X_train: (131977, 5000)\n",
      "X_test: (32995, 5000)\n",
      "y_train: (131977,)\n",
      "y_test: (32995,)\n"
     ]
    }
   ],
   "source": [
    "import re\n",
    "import nltk\n",
    "from nltk.corpus import stopwords\n",
    "from nltk.stem import WordNetLemmatizer\n",
    "from sklearn.feature_extraction.text import TfidfVectorizer\n",
    "from sklearn.model_selection import train_test_split\n",
    "\n",
    "# Download NLTK stop words and WordNetLemmatizer\n",
    "nltk.download('stopwords')\n",
    "nltk.download('wordnet')\n",
    "\n",
    "lemmatizer = WordNetLemmatizer()\n",
    "\n",
    "# Initialize an empty DataFrame for the combined data\n",
    "combined_data = pd.DataFrame(columns=['text', 'label'])\n",
    "\n",
    "# Combine datasets into a single DataFrame\n",
    "datasets = [phishing_email, nigerian_fraud, spam_assassin, ceas_08, enron, ling, nazario]\n",
    "\n",
    "for dataset in datasets:\n",
    "    if 'text_combined' in dataset.columns:\n",
    "        dataset_cleaned = dataset.rename(columns={'text_combined': 'text'})[['text', 'label']]\n",
    "    elif 'body' in dataset.columns:\n",
    "        dataset_cleaned = dataset.rename(columns={'body': 'text'})[['text', 'label']]\n",
    "    elif 'content' in dataset.columns:\n",
    "        dataset_cleaned = dataset.rename(columns={'content': 'text'})[['text', 'label']]\n",
    "    combined_data = pd.concat([combined_data, dataset_cleaned], ignore_index=True)\n",
    "\n",
    "# Clean the text data\n",
    "def clean_text(text):\n",
    "    text = re.sub('<.*?>', '', text)  # Remove HTML tags\n",
    "    text = re.sub('[^a-zA-Z]', ' ', text)  # Remove special characters\n",
    "    text = text.lower()  # Convert to lowercase\n",
    "    text = ' '.join(lemmatizer.lemmatize(word) for word in text.split() if word not in stopwords.words('english'))\n",
    "    return text\n",
    "\n",
    "combined_data['text'] = combined_data['text'].astype(str).fillna('').apply(clean_text)\n",
    "\n",
    "# Ensure labels are integers\n",
    "combined_data['label'] = combined_data['label'].astype(int)\n",
    "\n",
    "# Feature extraction using TF-IDF\n",
    "tfidf = TfidfVectorizer(max_features=5000)\n",
    "X = tfidf.fit_transform(combined_data['text']).toarray()\n",
    "y = combined_data['label'].values\n",
    "\n",
    "# Split data into training and testing sets\n",
    "X_train, X_test, y_train, y_test = train_test_split(X, y, test_size=0.2, random_state=42)\n",
    "\n",
    "# Confirm shapes of the training and testing sets\n",
    "print(\"Shapes of the datasets:\")\n",
    "print(\"X_train:\", X_train.shape)\n",
    "print(\"X_test:\", X_test.shape)\n",
    "print(\"y_train:\", y_train.shape)\n",
    "print(\"y_test:\", y_test.shape)\n"
   ]
  },
  {
   "cell_type": "code",
   "execution_count": 8,
   "metadata": {},
   "outputs": [
    {
     "name": "stdout",
     "output_type": "stream",
     "text": [
      "Random Forest Accuracy: 0.9922412486740415\n",
      "Classification Report:\n",
      "               precision    recall  f1-score   support\n",
      "\n",
      "           0       0.99      0.99      0.99     15791\n",
      "           1       0.99      0.99      0.99     17204\n",
      "\n",
      "    accuracy                           0.99     32995\n",
      "   macro avg       0.99      0.99      0.99     32995\n",
      "weighted avg       0.99      0.99      0.99     32995\n",
      "\n"
     ]
    }
   ],
   "source": [
    "from sklearn.ensemble import RandomForestClassifier\n",
    "from sklearn.metrics import accuracy_score, classification_report\n",
    "\n",
    "# Initialize the Random Forest model\n",
    "random_forest = RandomForestClassifier()\n",
    "\n",
    "# Train the model\n",
    "random_forest.fit(X_train, y_train)\n",
    "\n",
    "# Make predictions\n",
    "y_pred = random_forest.predict(X_test)\n",
    "\n",
    "# Evaluate the model\n",
    "print(\"Random Forest Accuracy:\", accuracy_score(y_test, y_pred))\n",
    "print(\"Classification Report:\\n\", classification_report(y_test, y_pred))\n"
   ]
  },
  {
   "cell_type": "code",
   "execution_count": 11,
   "metadata": {},
   "outputs": [
    {
     "data": {
      "text/plain": [
       "['tfidf_vectorizer.pkl']"
      ]
     },
     "execution_count": 11,
     "metadata": {},
     "output_type": "execute_result"
    }
   ],
   "source": [
    "import joblib\n",
    "\n",
    "# Save the trained model\n",
    "joblib.dump(random_forest, 'phishing_detection_model.pkl')\n",
    "\n",
    "# Save the TF-IDF vectorizer\n",
    "joblib.dump(tfidf, 'tfidf_vectorizer.pkl')\n"
   ]
  },
  {
   "cell_type": "code",
   "execution_count": 12,
   "metadata": {},
   "outputs": [],
   "source": [
    "# Write the Flask app to a Python script file\n",
    "flask_code = \"\"\"\n",
    "import joblib\n",
    "from flask import Flask, request, jsonify\n",
    "\n",
    "# Load the saved model\n",
    "model = joblib.load('phishing_detection_model.pkl')\n",
    "\n",
    "# Function to clean and preprocess the input text\n",
    "def clean_text(text):\n",
    "    import re\n",
    "    from nltk.corpus import stopwords\n",
    "    from nltk.stem import WordNetLemmatizer\n",
    "    lemmatizer = WordNetLemmatizer()\n",
    "    text = re.sub('<.*?>', '', text)  # Remove HTML tags\n",
    "    text = re.sub('[^a-zA-Z]', ' ', text)  # Remove special characters\n",
    "    text = text.lower()  # Convert to lowercase\n",
    "    text = ' '.join(lemmatizer.lemmatize(word) for word in text.split() if word not in stopwords.words('english'))\n",
    "    return text\n",
    "\n",
    "# Load the TF-IDF vectorizer\n",
    "tfidf = joblib.load('tfidf_vectorizer.pkl')\n",
    "\n",
    "# Create Flask app\n",
    "app = Flask(__name__)\n",
    "\n",
    "@app.route('/predict', methods=['POST'])\n",
    "def predict():\n",
    "    email_text = request.json['text']\n",
    "    email_text = clean_text(email_text)\n",
    "    features = tfidf.transform([email_text]).toarray()\n",
    "    prediction = model.predict(features)\n",
    "    return jsonify({'prediction': int(prediction[0])})\n",
    "\n",
    "if __name__ == '__main__':\n",
    "    app.run(debug=True)\n",
    "\"\"\"\n",
    "\n",
    "# Save the Flask app code to a Python file\n",
    "with open('app.py', 'w') as f:\n",
    "    f.write(flask_code)\n"
   ]
  },
  {
   "cell_type": "code",
   "execution_count": 13,
   "metadata": {},
   "outputs": [
    {
     "name": "stdout",
     "output_type": "stream",
     "text": [
      "Status Code: 200\n",
      "Response: {'prediction': 1}\n"
     ]
    }
   ],
   "source": [
    "import requests\n",
    "import json\n",
    "\n",
    "url = 'http://127.0.0.1:5000/predict'\n",
    "payload = {\n",
    "    'text': \"Congratulations! You have won a $1000 gift card. Click here to claim your prize.\"\n",
    "}\n",
    "headers = {'Content-Type': 'application/json'}\n",
    "\n",
    "response = requests.post(url, data=json.dumps(payload), headers=headers)\n",
    "\n",
    "print(f'Status Code: {response.status_code}')\n",
    "print(f'Response: {response.json()}')\n"
   ]
  },
  {
   "cell_type": "code",
   "execution_count": 14,
   "metadata": {},
   "outputs": [
    {
     "name": "stdout",
     "output_type": "stream",
     "text": [
      "Status Code: 200\n",
      "Response: {'prediction': 1}\n"
     ]
    }
   ],
   "source": [
    "payload = {\n",
    "    'text': \"Your account has been compromised. Click here to reset your password.\"\n",
    "}\n",
    "response = requests.post(url, data=json.dumps(payload), headers=headers)\n",
    "print(f'Status Code: {response.status_code}')\n",
    "print(f'Response: {response.json()}')\n"
   ]
  },
  {
   "cell_type": "code",
   "execution_count": 16,
   "metadata": {},
   "outputs": [
    {
     "name": "stdout",
     "output_type": "stream",
     "text": [
      " * Serving Flask app '__main__'\n",
      " * Debug mode: on\n"
     ]
    },
    {
     "name": "stderr",
     "output_type": "stream",
     "text": [
      "WARNING: This is a development server. Do not use it in a production deployment. Use a production WSGI server instead.\n",
      " * Running on http://127.0.0.1:5000\n",
      "Press CTRL+C to quit\n"
     ]
    }
   ],
   "source": [
    "import joblib\n",
    "from flask import Flask, request, jsonify\n",
    "import re\n",
    "from nltk.corpus import stopwords\n",
    "from nltk.stem import WordNetLemmatizer\n",
    "\n",
    "# Load the saved model\n",
    "model = joblib.load('phishing_detection_model.pkl')\n",
    "\n",
    "# Load the TF-IDF vectorizer\n",
    "tfidf = joblib.load('tfidf_vectorizer.pkl')\n",
    "\n",
    "# Create Flask app\n",
    "app = Flask(__name__)\n",
    "\n",
    "# Function to clean and preprocess the input text\n",
    "def clean_text(text):\n",
    "    lemmatizer = WordNetLemmatizer()\n",
    "    text = re.sub('<.*?>', '', text)  # Remove HTML tags\n",
    "    text = re.sub('[^a-zA-Z]', ' ', text)  # Remove special characters\n",
    "    text = text.lower()  # Convert to lowercase\n",
    "    text = ' '.join(lemmatizer.lemmatize(word) for word in text.split() if word not in stopwords.words('english'))\n",
    "    return text\n",
    "\n",
    "@app.route('/predict', methods=['POST'])\n",
    "def predict():\n",
    "    if not request.json or 'text' not in request.json:\n",
    "        return jsonify({'error': 'Invalid input'}), 400\n",
    "\n",
    "    email_text = request.json['text']\n",
    "    email_text = clean_text(email_text)\n",
    "    features = tfidf.transform([email_text]).toarray()\n",
    "    prediction = model.predict(features)\n",
    "    return jsonify({'prediction': int(prediction[0])})\n",
    "\n",
    "if __name__ == '__main__':\n",
    "    app.run(debug=True, use_reloader=False)  # use_reloader=False to prevent Jupyter from restarting the kernel\n"
   ]
  },
  {
   "cell_type": "code",
   "execution_count": null,
   "metadata": {},
   "outputs": [],
   "source": []
  }
 ],
 "metadata": {
  "kernelspec": {
   "display_name": "Python 3",
   "language": "python",
   "name": "python3"
  },
  "language_info": {
   "codemirror_mode": {
    "name": "ipython",
    "version": 3
   },
   "file_extension": ".py",
   "mimetype": "text/x-python",
   "name": "python",
   "nbconvert_exporter": "python",
   "pygments_lexer": "ipython3",
   "version": "3.12.3"
  }
 },
 "nbformat": 4,
 "nbformat_minor": 2
}
